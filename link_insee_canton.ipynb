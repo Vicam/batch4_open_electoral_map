{
 "cells": [
  {
   "cell_type": "code",
   "execution_count": 1,
   "metadata": {},
   "outputs": [],
   "source": [
    "import pandas as pd"
   ]
  },
  {
   "cell_type": "markdown",
   "metadata": {},
   "source": [
    "# Link Iris-Commune-Canton\n",
    "File for canton: https://www.data.gouv.fr/s/resources/circonscriptions-legislatives-table-de-correspondance-des-communes-et-des-cantons-pour-les-elections-legislatives-de-2012-et-sa-mise-a-jour-pour-les-elections-legislatives-2017/20170411-141128/Table_de_correspondance_circo_legislatives2017-1.xlsx  \n",
    "File for iris: https://www.insee.fr/fr/statistiques/fichier/3137409/base-ic-evol-struct-pop-2014.zip"
   ]
  },
  {
   "cell_type": "code",
   "execution_count": 6,
   "metadata": {},
   "outputs": [],
   "source": [
    "df_iris = pd.read_excel('./data/base-ic-evol-struct-pop-2014.xls', sheet_name='IRIS', header=5)"
   ]
  },
  {
   "cell_type": "code",
   "execution_count": 8,
   "metadata": {},
   "outputs": [],
   "source": [
    "df_cantons = pd.read_excel('./data/Table_de_correspondance_circo_legislatives2017-1.xlsx', header=0)"
   ]
  },
  {
   "cell_type": "code",
   "execution_count": 17,
   "metadata": {},
   "outputs": [],
   "source": [
    "df_cantons = df_cantons[~df_cantons['CODE DPT'].astype(str).str.contains('Z')].reset_index(drop=True)"
   ]
  },
  {
   "cell_type": "code",
   "execution_count": 18,
   "metadata": {},
   "outputs": [
    {
     "data": {
      "text/plain": [
       "array([u'01', u'02', u'03', u'04', u'05', u'06', u'07', u'08', u'09',\n",
       "       u'10', u'11', u'12', u'13', u'14', u'15', u'16', u'17', u'18',\n",
       "       u'19', u'21', u'22', u'23', u'24', u'25', u'26', u'27', u'28',\n",
       "       u'29', u'2A', u'2B', u'30', u'31', u'32', u'33', u'34', u'35',\n",
       "       u'36', u'37', u'38', u'39', u'40', u'41', u'42', u'43', u'44',\n",
       "       u'45', u'46', u'47', u'48', u'49', u'50', u'51', u'52', u'53',\n",
       "       u'54', u'55', u'56', u'57', u'58', u'59', u'60', u'61', u'62',\n",
       "       u'63', u'64', u'65', u'66', u'67', u'68', u'69', u'70', u'71',\n",
       "       u'72', u'73', u'74', u'75', u'76', u'77', u'78', u'79', u'80',\n",
       "       u'81', u'82', u'83', u'84', u'85', u'86', u'87', u'88', u'89',\n",
       "       u'90', u'91', u'92', u'93', u'94', u'95', u'971', u'972', u'973',\n",
       "       u'974'], dtype=object)"
      ]
     },
     "execution_count": 18,
     "metadata": {},
     "output_type": "execute_result"
    }
   ],
   "source": [
    "#to print departements and see which one to remove\n",
    "#df_iris['DEP'].unique()"
   ]
  },
  {
   "cell_type": "code",
   "execution_count": 21,
   "metadata": {},
   "outputs": [],
   "source": [
    "df_iris = df_iris[~df_iris['DEP'].isin([u'2A',u'2B' u'971', u'972', u'973',\n",
    "       u'974'])]"
   ]
  },
  {
   "cell_type": "code",
   "execution_count": 61,
   "metadata": {},
   "outputs": [],
   "source": [
    "df_cantons['CODE DPT'] = df_cantons['CODE DPT'].astype('str').str.zfill(2)\n",
    "df_cantons['CODE COMMUNE'] = df_cantons['CODE COMMUNE'].astype('str').str.zfill(3)\n",
    "df_cantons['COM'] = df_cantons['CODE DPT'] + df_cantons['CODE COMMUNE']\n",
    "df_cantons['CODE CANTON'] = df_cantons['CODE CANTON'].astype('str').str.zfill(2)\n",
    "df_cantons['ID_CANTON'] = df_cantons['CODE DPT'] + df_cantons['CODE CANTON']"
   ]
  },
  {
   "cell_type": "code",
   "execution_count": 62,
   "metadata": {},
   "outputs": [],
   "source": [
    "df_cross = pd.merge(df_iris, df_cantons, on=['COM'], how='left')"
   ]
  },
  {
   "cell_type": "markdown",
   "metadata": {},
   "source": [
    "# Analyse if there is difference between each reference (iris file and canton file)\n",
    "We get 6% difference between the two reference commune name (there is problem with Paris and with accent missing)"
   ]
  },
  {
   "cell_type": "code",
   "execution_count": 64,
   "metadata": {},
   "outputs": [],
   "source": [
    "viz = df_cross[['ID_CANTON', 'COM', 'IRIS', 'NOM CANTON', 'NOM COMMUNE']].sort_values(['ID_CANTON', 'COM', 'IRIS'])"
   ]
  },
  {
   "cell_type": "code",
   "execution_count": 118,
   "metadata": {},
   "outputs": [
    {
     "data": {
      "text/html": [
       "<div>\n",
       "<style>\n",
       "    .dataframe thead tr:only-child th {\n",
       "        text-align: right;\n",
       "    }\n",
       "\n",
       "    .dataframe thead th {\n",
       "        text-align: left;\n",
       "    }\n",
       "\n",
       "    .dataframe tbody tr th {\n",
       "        vertical-align: top;\n",
       "    }\n",
       "</style>\n",
       "<table border=\"1\" class=\"dataframe\">\n",
       "  <thead>\n",
       "    <tr style=\"text-align: right;\">\n",
       "      <th></th>\n",
       "      <th>ID_CANTON</th>\n",
       "      <th>COM</th>\n",
       "      <th>IRIS</th>\n",
       "      <th>NOM CANTON</th>\n",
       "      <th>NOM COMMUNE</th>\n",
       "    </tr>\n",
       "  </thead>\n",
       "  <tbody>\n",
       "    <tr>\n",
       "      <th>1</th>\n",
       "      <td>0101</td>\n",
       "      <td>01002</td>\n",
       "      <td>010020000</td>\n",
       "      <td>Ambérieu-en-Bugey</td>\n",
       "      <td>L'Abergement-de-Varey</td>\n",
       "    </tr>\n",
       "    <tr>\n",
       "      <th>2</th>\n",
       "      <td>0101</td>\n",
       "      <td>01004</td>\n",
       "      <td>010040101</td>\n",
       "      <td>Ambérieu-en-Bugey</td>\n",
       "      <td>Ambérieu-en-Bugey</td>\n",
       "    </tr>\n",
       "    <tr>\n",
       "      <th>3</th>\n",
       "      <td>0101</td>\n",
       "      <td>01004</td>\n",
       "      <td>010040102</td>\n",
       "      <td>Ambérieu-en-Bugey</td>\n",
       "      <td>Ambérieu-en-Bugey</td>\n",
       "    </tr>\n",
       "    <tr>\n",
       "      <th>4</th>\n",
       "      <td>0101</td>\n",
       "      <td>01004</td>\n",
       "      <td>010040201</td>\n",
       "      <td>Ambérieu-en-Bugey</td>\n",
       "      <td>Ambérieu-en-Bugey</td>\n",
       "    </tr>\n",
       "    <tr>\n",
       "      <th>5</th>\n",
       "      <td>0101</td>\n",
       "      <td>01004</td>\n",
       "      <td>010040202</td>\n",
       "      <td>Ambérieu-en-Bugey</td>\n",
       "      <td>Ambérieu-en-Bugey</td>\n",
       "    </tr>\n",
       "  </tbody>\n",
       "</table>\n",
       "</div>"
      ],
      "text/plain": [
       "  ID_CANTON    COM       IRIS         NOM CANTON            NOM COMMUNE\n",
       "1      0101  01002  010020000  Ambérieu-en-Bugey  L'Abergement-de-Varey\n",
       "2      0101  01004  010040101  Ambérieu-en-Bugey      Ambérieu-en-Bugey\n",
       "3      0101  01004  010040102  Ambérieu-en-Bugey      Ambérieu-en-Bugey\n",
       "4      0101  01004  010040201  Ambérieu-en-Bugey      Ambérieu-en-Bugey\n",
       "5      0101  01004  010040202  Ambérieu-en-Bugey      Ambérieu-en-Bugey"
      ]
     },
     "execution_count": 118,
     "metadata": {},
     "output_type": "execute_result"
    }
   ],
   "source": [
    "viz.head()"
   ]
  },
  {
   "cell_type": "code",
   "execution_count": 114,
   "metadata": {},
   "outputs": [],
   "source": [
    "df_cross['MEME NOM COMMUNE'] = (df_cross['LIBCOM'].isin(df_cross['NOM COMMUNE']) & df_cross['NOM COMMUNE'].isin(df_cross['LIBCOM']))"
   ]
  },
  {
   "cell_type": "code",
   "execution_count": 107,
   "metadata": {},
   "outputs": [
    {
     "data": {
      "text/plain": [
       "True     74652\n",
       "False     4580\n",
       "Name: MEME NOM COMMUNE, dtype: int64"
      ]
     },
     "execution_count": 107,
     "metadata": {},
     "output_type": "execute_result"
    }
   ],
   "source": [
    "df_cross['MEME NOM COMMUNE'].value_counts()"
   ]
  },
  {
   "cell_type": "code",
   "execution_count": 136,
   "metadata": {},
   "outputs": [
    {
     "data": {
      "text/html": [
       "<div>\n",
       "<style>\n",
       "    .dataframe thead tr:only-child th {\n",
       "        text-align: right;\n",
       "    }\n",
       "\n",
       "    .dataframe thead th {\n",
       "        text-align: left;\n",
       "    }\n",
       "\n",
       "    .dataframe tbody tr th {\n",
       "        vertical-align: top;\n",
       "    }\n",
       "</style>\n",
       "<table border=\"1\" class=\"dataframe\">\n",
       "  <thead>\n",
       "    <tr style=\"text-align: right;\">\n",
       "      <th></th>\n",
       "      <th>ID_CANTON</th>\n",
       "      <th>COM</th>\n",
       "      <th>IRIS</th>\n",
       "      <th>LIBCOM</th>\n",
       "      <th>NOM COMMUNE</th>\n",
       "    </tr>\n",
       "  </thead>\n",
       "  <tbody>\n",
       "    <tr>\n",
       "      <th>131</th>\n",
       "      <td>0118</td>\n",
       "      <td>01095</td>\n",
       "      <td>010950000</td>\n",
       "      <td>Chavannes-sur-Suran</td>\n",
       "      <td>Nivigne et Suran</td>\n",
       "    </tr>\n",
       "    <tr>\n",
       "      <th>185</th>\n",
       "      <td>0114</td>\n",
       "      <td>01152</td>\n",
       "      <td>011520000</td>\n",
       "      <td>Échallon</td>\n",
       "      <td>Echallon</td>\n",
       "    </tr>\n",
       "    <tr>\n",
       "      <th>186</th>\n",
       "      <td>0120</td>\n",
       "      <td>01153</td>\n",
       "      <td>011530000</td>\n",
       "      <td>Échenevex</td>\n",
       "      <td>Echenevex</td>\n",
       "    </tr>\n",
       "    <tr>\n",
       "      <th>187</th>\n",
       "      <td>0102</td>\n",
       "      <td>01154</td>\n",
       "      <td>011540000</td>\n",
       "      <td>Étrez</td>\n",
       "      <td>Etrez</td>\n",
       "    </tr>\n",
       "    <tr>\n",
       "      <th>188</th>\n",
       "      <td>0110</td>\n",
       "      <td>01155</td>\n",
       "      <td>011550000</td>\n",
       "      <td>Évosges</td>\n",
       "      <td>Evosges</td>\n",
       "    </tr>\n",
       "    <tr>\n",
       "      <th>202</th>\n",
       "      <td>0114</td>\n",
       "      <td>01170</td>\n",
       "      <td>011700000</td>\n",
       "      <td>Béard-Géovreissiat</td>\n",
       "      <td>Beard-Géovreissiat</td>\n",
       "    </tr>\n",
       "    <tr>\n",
       "      <th>204</th>\n",
       "      <td>NaN</td>\n",
       "      <td>01172</td>\n",
       "      <td>011720000</td>\n",
       "      <td>Germagnat</td>\n",
       "      <td>NaN</td>\n",
       "    </tr>\n",
       "    <tr>\n",
       "      <th>349</th>\n",
       "      <td>NaN</td>\n",
       "      <td>01316</td>\n",
       "      <td>013160000</td>\n",
       "      <td>Pugieu</td>\n",
       "      <td>NaN</td>\n",
       "    </tr>\n",
       "    <tr>\n",
       "      <th>368</th>\n",
       "      <td>0104</td>\n",
       "      <td>01338</td>\n",
       "      <td>013380000</td>\n",
       "      <td>Groslée-Saint-Benoit</td>\n",
       "      <td>Groslée-Saint-Benoît</td>\n",
       "    </tr>\n",
       "    <tr>\n",
       "      <th>378</th>\n",
       "      <td>0112</td>\n",
       "      <td>01349</td>\n",
       "      <td>013490000</td>\n",
       "      <td>Saint-Éloi</td>\n",
       "      <td>Saint-Eloi</td>\n",
       "    </tr>\n",
       "  </tbody>\n",
       "</table>\n",
       "</div>"
      ],
      "text/plain": [
       "    ID_CANTON    COM       IRIS                LIBCOM           NOM COMMUNE\n",
       "131      0118  01095  010950000   Chavannes-sur-Suran      Nivigne et Suran\n",
       "185      0114  01152  011520000              Échallon              Echallon\n",
       "186      0120  01153  011530000             Échenevex             Echenevex\n",
       "187      0102  01154  011540000                 Étrez                 Etrez\n",
       "188      0110  01155  011550000               Évosges               Evosges\n",
       "202      0114  01170  011700000    Béard-Géovreissiat    Beard-Géovreissiat\n",
       "204       NaN  01172  011720000             Germagnat                   NaN\n",
       "349       NaN  01316  013160000                Pugieu                   NaN\n",
       "368      0104  01338  013380000  Groslée-Saint-Benoit  Groslée-Saint-Benoît\n",
       "378      0112  01349  013490000            Saint-Éloi            Saint-Eloi"
      ]
     },
     "execution_count": 136,
     "metadata": {},
     "output_type": "execute_result"
    }
   ],
   "source": [
    "df_cross[['ID_CANTON', 'COM', 'IRIS', 'LIBCOM', 'NOM COMMUNE']][df_cross['MEME NOM COMMUNE'] == False].head(10)"
   ]
  },
  {
   "cell_type": "markdown",
   "metadata": {},
   "source": [
    "# Complete population information\n",
    "\n",
    "When we compare these informations https://fr.wikipedia.org/wiki/Liste_des_cantons_de_la_Sarthe\n",
    "with our dataframe sarthe_canton we  got the exact same things"
   ]
  },
  {
   "cell_type": "code",
   "execution_count": 127,
   "metadata": {},
   "outputs": [],
   "source": [
    "canton_pop = df_cross.groupby('ID_CANTON')['P14_POP'].sum().reset_index()"
   ]
  },
  {
   "cell_type": "code",
   "execution_count": 128,
   "metadata": {},
   "outputs": [
    {
     "data": {
      "text/html": [
       "<div>\n",
       "<style>\n",
       "    .dataframe thead tr:only-child th {\n",
       "        text-align: right;\n",
       "    }\n",
       "\n",
       "    .dataframe thead th {\n",
       "        text-align: left;\n",
       "    }\n",
       "\n",
       "    .dataframe tbody tr th {\n",
       "        vertical-align: top;\n",
       "    }\n",
       "</style>\n",
       "<table border=\"1\" class=\"dataframe\">\n",
       "  <thead>\n",
       "    <tr style=\"text-align: right;\">\n",
       "      <th></th>\n",
       "      <th>ID_CANTON</th>\n",
       "      <th>P14_POP</th>\n",
       "    </tr>\n",
       "  </thead>\n",
       "  <tbody>\n",
       "    <tr>\n",
       "      <th>1504</th>\n",
       "      <td>7201</td>\n",
       "      <td>29709.0</td>\n",
       "    </tr>\n",
       "    <tr>\n",
       "      <th>1505</th>\n",
       "      <td>7202</td>\n",
       "      <td>28767.0</td>\n",
       "    </tr>\n",
       "    <tr>\n",
       "      <th>1506</th>\n",
       "      <td>7203</td>\n",
       "      <td>21717.0</td>\n",
       "    </tr>\n",
       "    <tr>\n",
       "      <th>1507</th>\n",
       "      <td>7204</td>\n",
       "      <td>27778.0</td>\n",
       "    </tr>\n",
       "    <tr>\n",
       "      <th>1508</th>\n",
       "      <td>7205</td>\n",
       "      <td>24979.0</td>\n",
       "    </tr>\n",
       "    <tr>\n",
       "      <th>1509</th>\n",
       "      <td>7206</td>\n",
       "      <td>24408.0</td>\n",
       "    </tr>\n",
       "    <tr>\n",
       "      <th>1510</th>\n",
       "      <td>7207</td>\n",
       "      <td>29813.0</td>\n",
       "    </tr>\n",
       "    <tr>\n",
       "      <th>1511</th>\n",
       "      <td>7208</td>\n",
       "      <td>28963.0</td>\n",
       "    </tr>\n",
       "    <tr>\n",
       "      <th>1512</th>\n",
       "      <td>7209</td>\n",
       "      <td>26561.0</td>\n",
       "    </tr>\n",
       "    <tr>\n",
       "      <th>1513</th>\n",
       "      <td>7210</td>\n",
       "      <td>289979.0</td>\n",
       "    </tr>\n",
       "    <tr>\n",
       "      <th>1514</th>\n",
       "      <td>7211</td>\n",
       "      <td>152782.0</td>\n",
       "    </tr>\n",
       "    <tr>\n",
       "      <th>1515</th>\n",
       "      <td>7212</td>\n",
       "      <td>431439.0</td>\n",
       "    </tr>\n",
       "    <tr>\n",
       "      <th>1516</th>\n",
       "      <td>7213</td>\n",
       "      <td>151333.0</td>\n",
       "    </tr>\n",
       "    <tr>\n",
       "      <th>1517</th>\n",
       "      <td>7214</td>\n",
       "      <td>143813.0</td>\n",
       "    </tr>\n",
       "    <tr>\n",
       "      <th>1518</th>\n",
       "      <td>7215</td>\n",
       "      <td>148924.0</td>\n",
       "    </tr>\n",
       "    <tr>\n",
       "      <th>1519</th>\n",
       "      <td>7216</td>\n",
       "      <td>161243.0</td>\n",
       "    </tr>\n",
       "    <tr>\n",
       "      <th>1520</th>\n",
       "      <td>7217</td>\n",
       "      <td>28513.0</td>\n",
       "    </tr>\n",
       "    <tr>\n",
       "      <th>1521</th>\n",
       "      <td>7218</td>\n",
       "      <td>26938.0</td>\n",
       "    </tr>\n",
       "    <tr>\n",
       "      <th>1522</th>\n",
       "      <td>7219</td>\n",
       "      <td>23522.0</td>\n",
       "    </tr>\n",
       "    <tr>\n",
       "      <th>1523</th>\n",
       "      <td>7220</td>\n",
       "      <td>30888.0</td>\n",
       "    </tr>\n",
       "    <tr>\n",
       "      <th>1524</th>\n",
       "      <td>7221</td>\n",
       "      <td>27023.0</td>\n",
       "    </tr>\n",
       "  </tbody>\n",
       "</table>\n",
       "</div>"
      ],
      "text/plain": [
       "     ID_CANTON   P14_POP\n",
       "1504      7201   29709.0\n",
       "1505      7202   28767.0\n",
       "1506      7203   21717.0\n",
       "1507      7204   27778.0\n",
       "1508      7205   24979.0\n",
       "1509      7206   24408.0\n",
       "1510      7207   29813.0\n",
       "1511      7208   28963.0\n",
       "1512      7209   26561.0\n",
       "1513      7210  289979.0\n",
       "1514      7211  152782.0\n",
       "1515      7212  431439.0\n",
       "1516      7213  151333.0\n",
       "1517      7214  143813.0\n",
       "1518      7215  148924.0\n",
       "1519      7216  161243.0\n",
       "1520      7217   28513.0\n",
       "1521      7218   26938.0\n",
       "1522      7219   23522.0\n",
       "1523      7220   30888.0\n",
       "1524      7221   27023.0"
      ]
     },
     "execution_count": 128,
     "metadata": {},
     "output_type": "execute_result"
    }
   ],
   "source": [
    "sarthe_canton = canton_pop[canton_pop['ID_CANTON'].str[:2] == '72']\n",
    "sarthe_canton"
   ]
  },
  {
   "cell_type": "code",
   "execution_count": 130,
   "metadata": {},
   "outputs": [],
   "source": [
    "canton_to_cut = canton_pop[canton_pop['P14_POP'] > 60000]"
   ]
  },
  {
   "cell_type": "code",
   "execution_count": 132,
   "metadata": {},
   "outputs": [
    {
     "data": {
      "text/plain": [
       "440"
      ]
     },
     "execution_count": 132,
     "metadata": {},
     "output_type": "execute_result"
    }
   ],
   "source": [
    "len(canton_to_cut)"
   ]
  },
  {
   "cell_type": "code",
   "execution_count": null,
   "metadata": {},
   "outputs": [],
   "source": []
  }
 ],
 "metadata": {
  "kernelspec": {
   "display_name": "Python 2",
   "language": "python",
   "name": "python2"
  },
  "language_info": {
   "codemirror_mode": {
    "name": "ipython",
    "version": 2
   },
   "file_extension": ".py",
   "mimetype": "text/x-python",
   "name": "python",
   "nbconvert_exporter": "python",
   "pygments_lexer": "ipython2",
   "version": "2.7.14"
  }
 },
 "nbformat": 4,
 "nbformat_minor": 2
}
