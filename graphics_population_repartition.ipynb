{
 "cells": [
  {
   "cell_type": "code",
   "execution_count": 52,
   "metadata": {},
   "outputs": [],
   "source": [
    "%matplotlib inline\n",
    "import pandas as pd\n",
    "import seaborn as sns\n",
    "import geopandas as gpd\n",
    "import matplotlib.pyplot as plt"
   ]
  },
  {
   "cell_type": "code",
   "execution_count": 16,
   "metadata": {},
   "outputs": [],
   "source": [
    "df_now = pd.read_csv('Circonscriptions-stats-insee.csv', sep=';', header=5)"
   ]
  },
  {
   "cell_type": "code",
   "execution_count": 17,
   "metadata": {},
   "outputs": [],
   "source": [
    "df_now = df_now[['#DEPCIR', 'DEPCIR_INTITULE', 'p08_pop']]"
   ]
  },
  {
   "cell_type": "code",
   "execution_count": 18,
   "metadata": {},
   "outputs": [
    {
     "data": {
      "text/plain": [
       "<matplotlib.axes._subplots.AxesSubplot at 0x7ff89b6c8050>"
      ]
     },
     "execution_count": 18,
     "metadata": {},
     "output_type": "execute_result"
    },
    {
     "data": {
      "image/png": "[encoded data removed]",
      "text/plain": [
       "<matplotlib.figure.Figure at 0x7ff89b76bad0>"
      ]
     },
     "metadata": {},
     "output_type": "display_data"
    }
   ],
   "source": [
    "sns.kdeplot(df_now['p08_pop'], shade=True, color=\"b\")"
   ]
  },
  {
   "cell_type": "code",
   "execution_count": 19,
   "metadata": {},
   "outputs": [
    {
     "data": {
      "text/plain": [
       "count       556.000000\n",
       "mean     115039.316547\n",
       "std       13495.862214\n",
       "min       62082.000000\n",
       "25%      107098.000000\n",
       "50%      116191.500000\n",
       "75%      124530.750000\n",
       "max      146866.000000\n",
       "Name: p08_pop, dtype: float64"
      ]
     },
     "execution_count": 19,
     "metadata": {},
     "output_type": "execute_result"
    }
   ],
   "source": [
    "df_now['p08_pop'].describe()"
   ]
  },
  {
   "cell_type": "code",
   "execution_count": null,
   "metadata": {},
   "outputs": [],
   "source": []
  },
  {
   "cell_type": "code",
   "execution_count": 24,
   "metadata": {},
   "outputs": [],
   "source": [
    "std_now = df_now['p08_pop'].std()\n",
    "mean_now = df_now['p08_pop'].mean()\n",
    "median_now = df_now['p08_pop'].quantile(0.5)\n",
    "max_now = df_now['p08_pop'].max()\n",
    "min_now = df_now['p08_pop'].min()"
   ]
  },
  {
   "cell_type": "code",
   "execution_count": 57,
   "metadata": {},
   "outputs": [
    {
     "name": "stdout",
     "output_type": "stream",
     "text": [
      "Moyenne : 115039\n",
      "Ecart Type : 13496\n",
      "Ecart Type %: 11.7%\n",
      "Min : 62082\n",
      "Max : 146866\n",
      "Ecart max : 84784\n",
      "Ecart max ratio : 2.4\n"
     ]
    }
   ],
   "source": [
    "print(\"Moyenne : %.0f\" %(mean_now))\n",
    "print('Ecart Type : %.0f' %(std_now))\n",
    "print('Ecart Type %%: %.1f%%' % (std_now / mean_now * 100))\n",
    "print('Min : %.0f' %(min_now))\n",
    "print('Max : %.0f' %(max_now))\n",
    "print('Ecart max : %.0f' %(max_now -  min_now))\n",
    "print('Ecart max ratio : %.1f' %((max_now) / float(min_now)))"
   ]
  },
  {
   "cell_type": "code",
   "execution_count": 22,
   "metadata": {},
   "outputs": [
    {
     "data": {
      "text/plain": [
       "0.1173152155199049"
      ]
     },
     "execution_count": 22,
     "metadata": {},
     "output_type": "execute_result"
    }
   ],
   "source": [
    "std_now / mean_now"
   ]
  },
  {
   "cell_type": "code",
   "execution_count": 25,
   "metadata": {},
   "outputs": [
    {
     "data": {
      "text/plain": [
       "62082"
      ]
     },
     "execution_count": 25,
     "metadata": {},
     "output_type": "execute_result"
    }
   ],
   "source": [
    "min_now"
   ]
  },
  {
   "cell_type": "code",
   "execution_count": 26,
   "metadata": {},
   "outputs": [
    {
     "data": {
      "text/plain": [
       "146866"
      ]
     },
     "execution_count": 26,
     "metadata": {},
     "output_type": "execute_result"
    }
   ],
   "source": [
    "max_now"
   ]
  },
  {
   "cell_type": "code",
   "execution_count": 27,
   "metadata": {},
   "outputs": [
    {
     "data": {
      "text/plain": [
       "116191.5"
      ]
     },
     "execution_count": 27,
     "metadata": {},
     "output_type": "execute_result"
    }
   ],
   "source": [
    "median_now"
   ]
  },
  {
   "cell_type": "code",
   "execution_count": 29,
   "metadata": {},
   "outputs": [
    {
     "data": {
      "text/plain": [
       "2.3656776521374954"
      ]
     },
     "execution_count": 29,
     "metadata": {},
     "output_type": "execute_result"
    }
   ],
   "source": [
    "max_now / float(min_now)"
   ]
  },
  {
   "cell_type": "markdown",
   "metadata": {},
   "source": [
    "# algo"
   ]
  },
  {
   "cell_type": "code",
   "execution_count": 36,
   "metadata": {},
   "outputs": [],
   "source": [
    "df_algo = gpd.read_file(\"departement_iris-complete.geojson\")"
   ]
  },
  {
   "cell_type": "code",
   "execution_count": 37,
   "metadata": {},
   "outputs": [
    {
     "data": {
      "text/html": [
       "<div>\n",
       "<style>\n",
       "    .dataframe thead tr:only-child th {\n",
       "        text-align: right;\n",
       "    }\n",
       "\n",
       "    .dataframe thead th {\n",
       "        text-align: left;\n",
       "    }\n",
       "\n",
       "    .dataframe tbody tr th {\n",
       "        vertical-align: top;\n",
       "    }\n",
       "</style>\n",
       "<table border=\"1\" class=\"dataframe\">\n",
       "  <thead>\n",
       "    <tr style=\"text-align: right;\">\n",
       "      <th></th>\n",
       "      <th>id</th>\n",
       "      <th>colour</th>\n",
       "      <th>pop</th>\n",
       "      <th>centroid_lng</th>\n",
       "      <th>centroid_lat</th>\n",
       "      <th>geometry</th>\n",
       "    </tr>\n",
       "  </thead>\n",
       "  <tbody>\n",
       "    <tr>\n",
       "      <th>0</th>\n",
       "      <td>01-0</td>\n",
       "      <td>#3b8e02</td>\n",
       "      <td>211831</td>\n",
       "      <td>5.768719</td>\n",
       "      <td>46.005832</td>\n",
       "      <td>POLYGON ((5.68702696333637 45.65349070666189, ...</td>\n",
       "    </tr>\n",
       "    <tr>\n",
       "      <th>1</th>\n",
       "      <td>01-1</td>\n",
       "      <td>#19dacc</td>\n",
       "      <td>208223</td>\n",
       "      <td>5.336311</td>\n",
       "      <td>46.245133</td>\n",
       "      <td>POLYGON ((5.340544399065737 46.07575028740959,...</td>\n",
       "    </tr>\n",
       "    <tr>\n",
       "      <th>2</th>\n",
       "      <td>01-2</td>\n",
       "      <td>#70208c</td>\n",
       "      <td>205993</td>\n",
       "      <td>5.107952</td>\n",
       "      <td>45.830970</td>\n",
       "      <td>POLYGON ((4.98130147030517 45.80549262612423, ...</td>\n",
       "    </tr>\n",
       "    <tr>\n",
       "      <th>3</th>\n",
       "      <td>02-0</td>\n",
       "      <td>#f30b44</td>\n",
       "      <td>180018</td>\n",
       "      <td>3.682925</td>\n",
       "      <td>49.186929</td>\n",
       "      <td>POLYGON ((3.264925826267932 48.93878814771806,...</td>\n",
       "    </tr>\n",
       "    <tr>\n",
       "      <th>4</th>\n",
       "      <td>02-1</td>\n",
       "      <td>#201d8c</td>\n",
       "      <td>183303</td>\n",
       "      <td>3.398461</td>\n",
       "      <td>49.709576</td>\n",
       "      <td>POLYGON ((3.286008839836324 49.52525531142922,...</td>\n",
       "    </tr>\n",
       "  </tbody>\n",
       "</table>\n",
       "</div>"
      ],
      "text/plain": [
       "     id   colour     pop  centroid_lng  centroid_lat  \\\n",
       "0  01-0  #3b8e02  211831      5.768719     46.005832   \n",
       "1  01-1  #19dacc  208223      5.336311     46.245133   \n",
       "2  01-2  #70208c  205993      5.107952     45.830970   \n",
       "3  02-0  #f30b44  180018      3.682925     49.186929   \n",
       "4  02-1  #201d8c  183303      3.398461     49.709576   \n",
       "\n",
       "                                            geometry  \n",
       "0  POLYGON ((5.68702696333637 45.65349070666189, ...  \n",
       "1  POLYGON ((5.340544399065737 46.07575028740959,...  \n",
       "2  POLYGON ((4.98130147030517 45.80549262612423, ...  \n",
       "3  POLYGON ((3.264925826267932 48.93878814771806,...  \n",
       "4  POLYGON ((3.286008839836324 49.52525531142922,...  "
      ]
     },
     "execution_count": 37,
     "metadata": {},
     "output_type": "execute_result"
    }
   ],
   "source": [
    "df_algo.head()"
   ]
  },
  {
   "cell_type": "code",
   "execution_count": 59,
   "metadata": {},
   "outputs": [
    {
     "data": {
      "text/plain": [
       "count       326.000000\n",
       "mean     196369.822086\n",
       "std       24550.883202\n",
       "min       76337.000000\n",
       "25%      185635.250000\n",
       "50%      197210.500000\n",
       "75%      206342.750000\n",
       "max      350109.000000\n",
       "Name: pop, dtype: float64"
      ]
     },
     "execution_count": 59,
     "metadata": {},
     "output_type": "execute_result"
    }
   ],
   "source": [
    "df_algo['pop'].describe()"
   ]
  },
  {
   "cell_type": "code",
   "execution_count": 38,
   "metadata": {},
   "outputs": [],
   "source": [
    "std_algo = df_algo['pop'].std()\n",
    "mean_algo = df_algo['pop'].mean()\n",
    "median_algo = df_algo['pop'].quantile(0.5)\n",
    "max_algo = df_algo['pop'].max()\n",
    "min_algo = df_algo['pop'].min()"
   ]
  },
  {
   "cell_type": "code",
   "execution_count": 58,
   "metadata": {},
   "outputs": [
    {
     "name": "stdout",
     "output_type": "stream",
     "text": [
      "Moyenne : 196370\n",
      "Ecart Type : 24551\n",
      "Ecart Type %: 12.5%\n",
      "Min : 76337\n",
      "Max : 350109\n",
      "Ecart max : 273772\n",
      "Ecart max ratio : 4.6\n"
     ]
    }
   ],
   "source": [
    "print(\"Moyenne : %.0f\" %(mean_algo))\n",
    "print('Ecart Type : %.0f' %(std_algo))\n",
    "print('Ecart Type %%: %.1f%%' % (std_algo / mean_algo * 100))\n",
    "print('Min : %.0f' %(min_algo))\n",
    "print('Max : %.0f' %(max_algo))\n",
    "print('Ecart max : %.0f' %(max_algo -  min_algo))\n",
    "print('Ecart max ratio : %.1f' %((max_algo) / float(min_algo)))"
   ]
  },
  {
   "cell_type": "code",
   "execution_count": 50,
   "metadata": {},
   "outputs": [
    {
     "data": {
      "text/plain": [
       "<matplotlib.axes._subplots.AxesSubplot at 0x7ff889ad3110>"
      ]
     },
     "execution_count": 50,
     "metadata": {},
     "output_type": "execute_result"
    },
    {
     "data": {
      "image/png": "[encoded data removed]",
      "text/plain": [
       "<matplotlib.figure.Figure at 0x7ff899ec2490>"
      ]
     },
     "metadata": {},
     "output_type": "display_data"
    }
   ],
   "source": [
    "sns.kdeplot(df_algo['pop'], shade=True, color=\"b\")"
   ]
  },
  {
   "cell_type": "markdown",
   "metadata": {},
   "source": [
    "# comparaison"
   ]
  },
  {
   "cell_type": "code",
   "execution_count": 55,
   "metadata": {},
   "outputs": [
    {
     "data": {
      "text/plain": [
       "<matplotlib.axes._subplots.AxesSubplot at 0x7ff889feae50>"
      ]
     },
     "execution_count": 55,
     "metadata": {},
     "output_type": "execute_result"
    },
    {
     "data": {
      "image/png": "[encoded data removed]",
      "text/plain": [
       "<matplotlib.figure.Figure at 0x7ff88a0af810>"
      ]
     },
     "metadata": {},
     "output_type": "display_data"
    }
   ],
   "source": [
    "fig, ax = plt.subplots()\n",
    "sns.kdeplot((df_now['p08_pop']-df_now['p08_pop'].mean()), shade=True, color=\"r\", ax=ax)\n",
    "sns.kdeplot((df_algo['pop']-df_algo['pop'].mean()), shade=True, color=\"b\", ax=ax)"
   ]
  },
  {
   "cell_type": "markdown",
   "metadata": {},
   "source": [
    "# now 2013"
   ]
  },
  {
   "cell_type": "code",
   "execution_count": 64,
   "metadata": {},
   "outputs": [],
   "source": [
    "df_now = pd.read_excel('population-circonscriptions-legislatives-en-2013.xls', sep=';', header=6)"
   ]
  },
  {
   "cell_type": "code",
   "execution_count": 69,
   "metadata": {},
   "outputs": [],
   "source": [
    "std_now = df_now['Population totale'].std()\n",
    "mean_now = df_now['Population totale'].mean()\n",
    "median_now = df_now['Population totale'].quantile(0.5)\n",
    "max_now = df_now['Population totale'].max()\n",
    "min_now = df_now['Population totale'].min()"
   ]
  },
  {
   "cell_type": "code",
   "execution_count": 70,
   "metadata": {},
   "outputs": [
    {
     "name": "stdout",
     "output_type": "stream",
     "text": [
      "Moyenne : 119999\n",
      "Ecart Type : 16767\n",
      "Ecart Type %: 14.0%\n",
      "Min : 6286\n",
      "Max : 172204\n",
      "Ecart max : 165918\n",
      "Ecart max ratio : 27.4\n"
     ]
    }
   ],
   "source": [
    "print(\"Moyenne : %.0f\" %(mean_now))\n",
    "print('Ecart Type : %.0f' %(std_now))\n",
    "print('Ecart Type %%: %.1f%%' % (std_now / mean_now * 100))\n",
    "print('Min : %.0f' %(min_now))\n",
    "print('Max : %.0f' %(max_now))\n",
    "print('Ecart max : %.0f' %(max_now -  min_now))\n",
    "print('Ecart max ratio : %.1f' %((max_now) / float(min_now)))"
   ]
  },
  {
   "cell_type": "markdown",
   "metadata": {},
   "source": [
    "# stats par departement"
   ]
  },
  {
   "cell_type": "code",
   "execution_count": 75,
   "metadata": {},
   "outputs": [
    {
     "data": {
      "text/plain": [
       "0      01\n",
       "1      01\n",
       "2      01\n",
       "3      02\n",
       "4      02\n",
       "5      02\n",
       "6      03\n",
       "7      03\n",
       "8      04\n",
       "9      05\n",
       "10     06\n",
       "11     06\n",
       "12     06\n",
       "13     06\n",
       "14     06\n",
       "15     07\n",
       "16     07\n",
       "17     08\n",
       "18     09\n",
       "19     10\n",
       "20     10\n",
       "21     11\n",
       "22     11\n",
       "23     12\n",
       "24     13\n",
       "25     13\n",
       "26     13\n",
       "27     13\n",
       "28     13\n",
       "29     13\n",
       "       ..\n",
       "296    91\n",
       "297    92\n",
       "298    92\n",
       "299    92\n",
       "300    92\n",
       "301    92\n",
       "302    92\n",
       "303    92\n",
       "304    92\n",
       "305    93\n",
       "306    93\n",
       "307    93\n",
       "308    93\n",
       "309    93\n",
       "310    93\n",
       "311    93\n",
       "312    93\n",
       "313    94\n",
       "314    94\n",
       "315    94\n",
       "316    94\n",
       "317    94\n",
       "318    94\n",
       "319    94\n",
       "320    95\n",
       "321    95\n",
       "322    95\n",
       "323    95\n",
       "324    95\n",
       "325    95\n",
       "Name: departement, Length: 326, dtype: object"
      ]
     },
     "execution_count": 75,
     "metadata": {},
     "output_type": "execute_result"
    }
   ],
   "source": [
    "df_algo['departement'] = df_algo['id'].str[:2]\n",
    "df_algo['departement']"
   ]
  },
  {
   "cell_type": "code",
   "execution_count": 83,
   "metadata": {},
   "outputs": [],
   "source": [
    "df_stats_algo = df_algo.groupby('departement')['pop'].describe()"
   ]
  },
  {
   "cell_type": "code",
   "execution_count": 85,
   "metadata": {},
   "outputs": [],
   "source": [
    "df_stats_algo['std_%'] = df_stats_algo['std'] / df_stats_algo['mean'] * 100\n",
    "df_stats_algo['ecart_max_ratio'] = df_stats_algo['max'] / df_stats_algo['min']"
   ]
  },
  {
   "cell_type": "code",
   "execution_count": 88,
   "metadata": {},
   "outputs": [
    {
     "data": {
      "text/plain": [
       "count    96.000000\n",
       "mean      1.083952\n",
       "std       0.310004\n",
       "min       1.000000\n",
       "25%       1.001477\n",
       "50%       1.036136\n",
       "75%       1.045152\n",
       "max       3.870703\n",
       "Name: ecart_max_ratio, dtype: float64"
      ]
     },
     "execution_count": 88,
     "metadata": {},
     "output_type": "execute_result"
    }
   ],
   "source": [
    "df_stats_algo['ecart_max_ratio'].describe()"
   ]
  },
  {
   "cell_type": "code",
   "execution_count": 89,
   "metadata": {},
   "outputs": [
    {
     "data": {
      "text/plain": [
       "count    72.000000\n",
       "mean      3.740633\n",
       "std       9.067053\n",
       "min       0.139086\n",
       "25%       1.423740\n",
       "50%       1.854146\n",
       "75%       2.397824\n",
       "max      74.022143\n",
       "Name: std_%, dtype: float64"
      ]
     },
     "execution_count": 89,
     "metadata": {},
     "output_type": "execute_result"
    }
   ],
   "source": [
    "df_stats_algo['std_%'].describe()"
   ]
  },
  {
   "cell_type": "code",
   "execution_count": null,
   "metadata": {},
   "outputs": [],
   "source": []
  }
 ],
 "metadata": {
  "kernelspec": {
   "display_name": "Python 2",
   "language": "python",
   "name": "python2"
  },
  "language_info": {
   "codemirror_mode": {
    "name": "ipython",
    "version": 2
   },
   "file_extension": ".py",
   "mimetype": "text/x-python",
   "name": "python",
   "nbconvert_exporter": "python",
   "pygments_lexer": "ipython2",
   "version": "2.7.14"
  }
 },
 "nbformat": 4,
 "nbformat_minor": 2
}
